{
 "cells": [
  {
   "cell_type": "code",
   "execution_count": 1,
   "metadata": {},
   "outputs": [],
   "source": [
    "import requests\n",
    "from bs4 import BeautifulSoup\n",
    "import json"
   ]
  },
  {
   "cell_type": "code",
   "execution_count": 2,
   "metadata": {},
   "outputs": [],
   "source": [
    "url = \"https://time.com\"\n",
    "header = {\"User-Agent\": \"Mozilla/5.0 (Windows NT 10.0; Win64; x64) AppleWebKit/537.36 (KHTML, like Gecko) Chrome/116.0.0.0 Safari/537.36\"}"
   ]
  },
  {
   "cell_type": "code",
   "execution_count": 3,
   "metadata": {},
   "outputs": [
    {
     "data": {
      "text/plain": [
       "bs4.BeautifulSoup"
      ]
     },
     "execution_count": 3,
     "metadata": {},
     "output_type": "execute_result"
    }
   ],
   "source": [
    "response = requests.get(url, headers = header) # getting respone of the url\n",
    "doc = BeautifulSoup(response.text, 'html.parser')\n",
    "type(doc)"
   ]
  },
  {
   "cell_type": "code",
   "execution_count": 15,
   "metadata": {},
   "outputs": [
    {
     "data": {
      "text/plain": [
       "[<h3 class=\"latest-stories__item-headline\">These Are the Guests for the 2024 State of the Union Address</h3>,\n",
       " <h3 class=\"latest-stories__item-headline\">Xcel Energy Makes Admission About Ignition of Texas Wildfire</h3>,\n",
       " <h3 class=\"latest-stories__item-headline\">Daylight Saving Time Is the Worst</h3>,\n",
       " <h3 class=\"latest-stories__item-headline\">February Broke Several Global Temperature Records</h3>,\n",
       " <h3 class=\"latest-stories__item-headline\">TikTok Is Treating Ozempic Side Effects</h3>,\n",
       " <h3 class=\"latest-stories__item-headline\">FDA: Some Cinnamon Is Tainted with Lead</h3>]"
      ]
     },
     "execution_count": 15,
     "metadata": {},
     "output_type": "execute_result"
    }
   ],
   "source": [
    "category_tags = doc.find_all('h3', attrs = {'class' : 'latest-stories__item-headline'})\n",
    "category_tags"
   ]
  },
  {
   "cell_type": "code",
   "execution_count": 16,
   "metadata": {},
   "outputs": [
    {
     "data": {
      "text/plain": [
       "['These Are the Guests for the 2024 State of the Union Address',\n",
       " 'Xcel Energy Makes Admission About Ignition of Texas Wildfire',\n",
       " 'Daylight Saving Time Is the Worst',\n",
       " 'February Broke Several Global Temperature Records',\n",
       " 'TikTok Is Treating Ozempic Side Effects',\n",
       " 'FDA: Some Cinnamon Is Tainted with Lead']"
      ]
     },
     "execution_count": 16,
     "metadata": {},
     "output_type": "execute_result"
    }
   ],
   "source": [
    "name = []\n",
    "for i in category_tags:\n",
    "    name.append(i.text)\n",
    "\n",
    "name"
   ]
  },
  {
   "cell_type": "code",
   "execution_count": 17,
   "metadata": {},
   "outputs": [
    {
     "data": {
      "text/plain": [
       "['https://time.com/6898482/state-of-the-union-2024-guests/',\n",
       " 'https://time.com/6898471/xcel-energy-igniting-texas-wildfire-involvement/',\n",
       " 'https://time.com/6851008/daylight-saving-time-bad-for-health/',\n",
       " 'https://time.com/6898421/global-hot-streak-continues-with-february-breaking-several-temperature-records/',\n",
       " 'https://time.com/6898410/ozempic-side-effects-tiktok/',\n",
       " 'https://time.com/6898406/cinnamon-lead-fda/']"
      ]
     },
     "execution_count": 17,
     "metadata": {},
     "output_type": "execute_result"
    }
   ],
   "source": [
    "ct = doc.find_all('li', attrs = {'class' : 'latest-stories__item'})\n",
    "\n",
    "address = []\n",
    "for i in ct:\n",
    "    address.append(url + i.find('a')['href'])\n",
    "\n",
    "address"
   ]
  },
  {
   "cell_type": "code",
   "execution_count": 19,
   "metadata": {},
   "outputs": [
    {
     "data": {
      "text/plain": [
       "[{'title': 'These Are the Guests for the 2024 State of the Union Address',\n",
       "  'link': 'https://time.com/6898482/state-of-the-union-2024-guests/'},\n",
       " {'title': 'Xcel Energy Makes Admission About Ignition of Texas Wildfire',\n",
       "  'link': 'https://time.com/6898471/xcel-energy-igniting-texas-wildfire-involvement/'},\n",
       " {'title': 'Daylight Saving Time Is the Worst',\n",
       "  'link': 'https://time.com/6851008/daylight-saving-time-bad-for-health/'},\n",
       " {'title': 'February Broke Several Global Temperature Records',\n",
       "  'link': 'https://time.com/6898421/global-hot-streak-continues-with-february-breaking-several-temperature-records/'},\n",
       " {'title': 'TikTok Is Treating Ozempic Side Effects',\n",
       "  'link': 'https://time.com/6898410/ozempic-side-effects-tiktok/'},\n",
       " {'title': 'FDA: Some Cinnamon Is Tainted with Lead',\n",
       "  'link': 'https://time.com/6898406/cinnamon-lead-fda/'}]"
      ]
     },
     "execution_count": 19,
     "metadata": {},
     "output_type": "execute_result"
    }
   ],
   "source": [
    "file = []\n",
    "\n",
    "for i in range(6):\n",
    "    file.append({'title' : name[i],\n",
    "                 'link' : address[i]\n",
    "                 }\n",
    "            )\n",
    "\n",
    "file"
   ]
  },
  {
   "cell_type": "code",
   "execution_count": 44,
   "metadata": {},
   "outputs": [],
   "source": [
    "with open('json_file', 'w') as j:\n",
    "    json.dump(file, j)"
   ]
  },
  {
   "cell_type": "code",
   "execution_count": 45,
   "metadata": {},
   "outputs": [],
   "source": [
    "with open(r'C:\\Users\\Saurabh Aggarwal\\Downloads\\Deep\\json_file') as k:\n",
    "    data = json.load(k)"
   ]
  },
  {
   "cell_type": "code",
   "execution_count": 46,
   "metadata": {},
   "outputs": [
    {
     "data": {
      "text/plain": [
       "[{'title': 'These Are the Guests for the 2024 State of the Union Address',\n",
       "  'link': 'https://time.com/6898482/state-of-the-union-2024-guests/'},\n",
       " {'title': 'Xcel Energy Makes Admission About Ignition of Texas Wildfire',\n",
       "  'link': 'https://time.com/6898471/xcel-energy-igniting-texas-wildfire-involvement/'},\n",
       " {'title': 'Daylight Saving Time Is the Worst',\n",
       "  'link': 'https://time.com/6851008/daylight-saving-time-bad-for-health/'},\n",
       " {'title': 'February Broke Several Global Temperature Records',\n",
       "  'link': 'https://time.com/6898421/global-hot-streak-continues-with-february-breaking-several-temperature-records/'},\n",
       " {'title': 'TikTok Is Treating Ozempic Side Effects',\n",
       "  'link': 'https://time.com/6898410/ozempic-side-effects-tiktok/'},\n",
       " {'title': 'FDA: Some Cinnamon Is Tainted with Lead',\n",
       "  'link': 'https://time.com/6898406/cinnamon-lead-fda/'}]"
      ]
     },
     "execution_count": 46,
     "metadata": {},
     "output_type": "execute_result"
    }
   ],
   "source": [
    "data"
   ]
  },
  {
   "cell_type": "code",
   "execution_count": 47,
   "metadata": {},
   "outputs": [],
   "source": [
    "def result():\n",
    "    return file"
   ]
  },
  {
   "cell_type": "code",
   "execution_count": 48,
   "metadata": {},
   "outputs": [
    {
     "data": {
      "text/plain": [
       "[{'title': 'These Are the Guests for the 2024 State of the Union Address',\n",
       "  'link': 'https://time.com/6898482/state-of-the-union-2024-guests/'},\n",
       " {'title': 'Xcel Energy Makes Admission About Ignition of Texas Wildfire',\n",
       "  'link': 'https://time.com/6898471/xcel-energy-igniting-texas-wildfire-involvement/'},\n",
       " {'title': 'Daylight Saving Time Is the Worst',\n",
       "  'link': 'https://time.com/6851008/daylight-saving-time-bad-for-health/'},\n",
       " {'title': 'February Broke Several Global Temperature Records',\n",
       "  'link': 'https://time.com/6898421/global-hot-streak-continues-with-february-breaking-several-temperature-records/'},\n",
       " {'title': 'TikTok Is Treating Ozempic Side Effects',\n",
       "  'link': 'https://time.com/6898410/ozempic-side-effects-tiktok/'},\n",
       " {'title': 'FDA: Some Cinnamon Is Tainted with Lead',\n",
       "  'link': 'https://time.com/6898406/cinnamon-lead-fda/'}]"
      ]
     },
     "execution_count": 48,
     "metadata": {},
     "output_type": "execute_result"
    }
   ],
   "source": [
    "result()"
   ]
  },
  {
   "cell_type": "code",
   "execution_count": null,
   "metadata": {},
   "outputs": [],
   "source": []
  },
  {
   "cell_type": "code",
   "execution_count": null,
   "metadata": {},
   "outputs": [],
   "source": []
  },
  {
   "cell_type": "code",
   "execution_count": null,
   "metadata": {},
   "outputs": [],
   "source": []
  },
  {
   "cell_type": "code",
   "execution_count": null,
   "metadata": {},
   "outputs": [],
   "source": []
  }
 ],
 "metadata": {
  "kernelspec": {
   "display_name": "Python 3",
   "language": "python",
   "name": "python3"
  },
  "language_info": {
   "codemirror_mode": {
    "name": "ipython",
    "version": 3
   },
   "file_extension": ".py",
   "mimetype": "text/x-python",
   "name": "python",
   "nbconvert_exporter": "python",
   "pygments_lexer": "ipython3",
   "version": "3.11.1"
  }
 },
 "nbformat": 4,
 "nbformat_minor": 2
}
